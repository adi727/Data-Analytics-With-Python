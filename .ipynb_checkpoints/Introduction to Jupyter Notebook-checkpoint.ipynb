{
 "cells": [
  {
   "cell_type": "markdown",
   "metadata": {},
   "source": [
    "# Introduction to Jupyter Notebook\n",
    "![Jupter Logo](img/jupyter_logo.png)"
   ]
  },
  {
   "cell_type": "markdown",
   "metadata": {},
   "source": [
    "## What is Jupyter Notebook?"
   ]
  },
  {
   "cell_type": "markdown",
   "metadata": {},
   "source": [
    "## Getting Started with Jupyter Notebook (Through Anaconda)\n",
    "\n",
    "### 1. Installation\n",
    "The easiest way to get started with Jupyter Notebook is to use Anaconda which is a Python Distribution platform. Jupyter Notebook, along with many of the necessary libraries for data analytics, come preinstalled with Anaconda.\n",
    "\n",
    "You can download and install Anaconda [here](https://www.anaconda.com/products/individual)\n",
    "\n",
    "If you are using MacOS, I have created a walkthrough you can follow [here](https://medium.com/python-in-plain-english/setting-up-your-machine-with-anaconda-macos-95d561eaabbd)\n",
    "\n",
    "### 2. Starting up the Jupyter\n",
    "Now that you have Anaconda installed on your machine, let's see how we can started up a session to use Jupyter.\n",
    "\n",
    "There are two ways you can activate an environment to run Jupyter Notebook\n",
    "\n",
    "1. Using a command-line prompt\n",
    "2. Using Anaconda Navigator\n",
    "\n",
    "If you are using a command-line prompt, you need to type 'jupyter notebook' into Anaconda Prompt (PC) or into Terminal (MacOS), which will looking similiar to the following screen shot:\n",
    "\n",
    "![MacOS Terminal](img/mac_os_terminal_jupyter.gif)\n",
    "\n",
    "You can also use the Anaconda Navigator software and click on the Launch button under the Jupyter Notebook icon on the Home tab:\n",
    "\n",
    "![Anaconda Navigator](img/anaconda_navigator.png)\n",
    "\n",
    "Using either method will launch in a new tab in your default web browser:\n",
    "![Jupyter Dashboard](img/jupyter_dashboard.png)\n",
    "\n",
    "What you will see is an interface that shows your computer's file directory based on the location that Anaconda was installed. Most of the time, this will be the user folder that has folders like Documents, Downloads, Music, Pictures, etc and should hopefully feel like a pretty familiar structure. \n",
    "\n",
    "The next thing we will do is actually create our first Jupyter Notebook and get familiar with how it works!\n"
   ]
  },
  {
   "cell_type": "markdown",
   "metadata": {},
   "source": [
    "## Creating a Jupyter Notebook\n",
    "\n",
    "To begin:\n",
    "1. You will want to click on the folder you would like to create your Notebook\n",
    "![Documents Folder]()\n",
    "2. Once in the folder, you will go to the top right corner of the page and click on \"New\" and select \"Python 3\". This will open a new tab or window in your browser as an \"Untitled\" notebook.\n",
    "![New Python 3 Folder]()\n",
    "\n",
    "And viola! You have now created your first Jupyter Notebook! \n"
   ]
  },
  {
   "cell_type": "markdown",
   "metadata": {},
   "source": [
    "## Jupyter Notebook Interface"
   ]
  },
  {
   "cell_type": "markdown",
   "metadata": {},
   "source": [
    "## Jupyter Notebook Keyboard Shorcuts"
   ]
  },
  {
   "cell_type": "markdown",
   "metadata": {},
   "source": [
    "## Adding Styling and Text in a Jupyter Notebook"
   ]
  },
  {
   "cell_type": "markdown",
   "metadata": {},
   "source": [
    "## Creating a project folder structure\n",
    "\n",
    "[Cookiecutter Data Science](https://drivendata.github.io/cookiecutter-data-science/)"
   ]
  }
 ],
 "metadata": {
  "kernelspec": {
   "display_name": "Python 3",
   "language": "python",
   "name": "python3"
  },
  "language_info": {
   "codemirror_mode": {
    "name": "ipython",
    "version": 3
   },
   "file_extension": ".py",
   "mimetype": "text/x-python",
   "name": "python",
   "nbconvert_exporter": "python",
   "pygments_lexer": "ipython3",
   "version": "3.7.6"
  }
 },
 "nbformat": 4,
 "nbformat_minor": 4
}
