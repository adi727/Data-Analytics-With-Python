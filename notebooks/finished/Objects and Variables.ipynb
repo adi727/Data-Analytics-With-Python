{
 "cells": [
  {
   "cell_type": "markdown",
   "metadata": {},
   "source": [
    "# Objects"
   ]
  },
  {
   "cell_type": "markdown",
   "metadata": {},
   "source": [
    "Bill Lubanovic's book [*Introducing Python*](https://amzn.to/34OpOGN) provides a great example of how to think of an object\n",
    ">An object is like a clear plastic box that contains a piece of data. The object has a *type*, such as a boolean or integer, that determines what can be done with data...in Python, if an object has the type `int`, you know that you could add it to another `int`.\n",
    "\n",
    "Values contained within an object can either be changed (mutable) or remain constant (immutable). Using the same box exampe above:\n",
    ">Think of an immutable object as a closed box with a clear window: you can see the value but you can't change it. By the same analogy, a mutable object is like an open box: not only can you the value inside, you can also change it; however you can't change it's type.\n",
    "\n",
    "Values can either be data-type (such as a string, integer, float, boolean, etc) or class (code). "
   ]
  },
  {
   "cell_type": "markdown",
   "metadata": {},
   "source": [
    "# Variables\n",
    "When referring back to an object that contains a value, we can create a variable to assign a name in order to reference back to the object containing our value.\n",
    "\n",
    "For example:"
   ]
  },
  {
   "cell_type": "code",
   "execution_count": 12,
   "metadata": {},
   "outputs": [
    {
     "name": "stdout",
     "output_type": "stream",
     "text": [
      "Text me the address to the bar\n"
     ]
    }
   ],
   "source": [
    "# string variable\n",
    "text_message = 'Text me the address to the bar'\n",
    "\n",
    "print(text_message)"
   ]
  },
  {
   "cell_type": "markdown",
   "metadata": {},
   "source": [
    "In our example\n",
    "1. `text_message` is our variable \n",
    "2. `text_message` contains a string object\n",
    "3. Our text message about the address to the bar is the value of the string object\n",
    "\n",
    "Assigning variables to object is essentially to  (see Built-In Data Types for more info)."
   ]
  },
  {
   "cell_type": "code",
   "execution_count": 13,
   "metadata": {},
   "outputs": [
    {
     "name": "stdout",
     "output_type": "stream",
     "text": [
      "60513\n"
     ]
    }
   ],
   "source": [
    "# integer variable\n",
    "zipcode = 60513\n",
    "\n",
    "print(zipcode)"
   ]
  },
  {
   "cell_type": "code",
   "execution_count": 14,
   "metadata": {},
   "outputs": [
    {
     "name": "stdout",
     "output_type": "stream",
     "text": [
      "273.15\n"
     ]
    }
   ],
   "source": [
    "#float variable\n",
    "freezing_temp_kelvin = 273.15\n",
    "\n",
    "print(freezing_temp_kelvin)"
   ]
  },
  {
   "cell_type": "markdown",
   "metadata": {},
   "source": [
    "## Variable Names\n",
    "In Python, variable names have a few rules. \n",
    "\n",
    "1. Variables can only contain the following characters:\n",
    "    - Uppercase and lowercase letters (A-Z, a-z)\n",
    "    - Digits (0-9)\n",
    "    - Underscores (_)\n",
    "2. When naming variables, hey cannot begin with a digit\n",
    "3. Python has a set of reserved words that should not be used (see list [here](https://realpython.com/python-variables/#reserved-words-keywords))"
   ]
  }
 ],
 "metadata": {
  "kernelspec": {
   "display_name": "Python 3",
   "language": "python",
   "name": "python3"
  },
  "language_info": {
   "codemirror_mode": {
    "name": "ipython",
    "version": 3
   },
   "file_extension": ".py",
   "mimetype": "text/x-python",
   "name": "python",
   "nbconvert_exporter": "python",
   "pygments_lexer": "ipython3",
   "version": "3.7.6"
  }
 },
 "nbformat": 4,
 "nbformat_minor": 4
}
