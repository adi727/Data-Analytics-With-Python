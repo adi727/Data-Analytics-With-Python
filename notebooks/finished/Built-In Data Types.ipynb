{
 "cells": [
  {
   "cell_type": "markdown",
   "metadata": {},
   "source": [
    "# Built-In Data Types\n",
    "Everything in Python is an object and every object is grouped into Python into data types. We will look at the simplest built-in datatypes (string, integer, float, and boolean) and will touch on lists, tuples, and dictionaries in another lesson\n",
    "\n",
    "|Name|Data Type|Example|\n",
    "|:--------|:------|:------|\n",
    "|String|`str`|`\"Hello World!\"`|\n",
    "|Integer|`int`|`25`|\n",
    "|Float|`float`|`20.5`|\n",
    "|Boolean|`True` OR `False`|`True`|\n"
   ]
  },
  {
   "cell_type": "markdown",
   "metadata": {},
   "source": [
    "## Strings\n",
    "To create a Python string, you will enclose the characters in either 'single quotes' or \"double quotes\""
   ]
  },
  {
   "cell_type": "code",
   "execution_count": 5,
   "metadata": {},
   "outputs": [
    {
     "data": {
      "text/plain": [
       "'Apple'"
      ]
     },
     "execution_count": 5,
     "metadata": {},
     "output_type": "execute_result"
    }
   ],
   "source": [
    "'Apple'"
   ]
  },
  {
   "cell_type": "code",
   "execution_count": 6,
   "metadata": {},
   "outputs": [
    {
     "data": {
      "text/plain": [
       "'Macbook Pro'"
      ]
     },
     "execution_count": 6,
     "metadata": {},
     "output_type": "execute_result"
    }
   ],
   "source": [
    "\"Macbook Pro\""
   ]
  },
  {
   "cell_type": "markdown",
   "metadata": {},
   "source": [
    "What if you want to quote something with your string? You can do so by wrapping your quote in single or double quotes"
   ]
  },
  {
   "cell_type": "code",
   "execution_count": 7,
   "metadata": {},
   "outputs": [
    {
     "data": {
      "text/plain": [
       "'\"I have not seen them in years!\" said Janet'"
      ]
     },
     "execution_count": 7,
     "metadata": {},
     "output_type": "execute_result"
    }
   ],
   "source": [
    "'\"I have not seen them in years!\" said Janet'"
   ]
  },
  {
   "cell_type": "markdown",
   "metadata": {},
   "source": [
    "You can also use triple quotes to create multiline strings which are helpful when you are describing something with your code"
   ]
  },
  {
   "cell_type": "code",
   "execution_count": 10,
   "metadata": {},
   "outputs": [
    {
     "data": {
      "text/plain": [
       "\"Did a full 180, crazy\\nThinking 'bout the way I was\\nDid the heartbreak change me? Maybe\\nBut look at where I ended up\\nI'm all good already\\nSo moved on, it's scary\\nI'm not where you left me at all, so\""
      ]
     },
     "execution_count": 10,
     "metadata": {},
     "output_type": "execute_result"
    }
   ],
   "source": [
    "dua_lipa = '''Did a full 180, crazy\n",
    "Thinking 'bout the way I was\n",
    "Did the heartbreak change me? Maybe\n",
    "But look at where I ended up\n",
    "I'm all good already\n",
    "So moved on, it's scary\n",
    "I'm not where you left me at all, so'''\n",
    "\n",
    "dua_lipa"
   ]
  },
  {
   "cell_type": "markdown",
   "metadata": {},
   "source": [
    "Since we are using Jupyter Notebook, which is an interactive interpreter, we get this \\n which is an escape sequence which tells Python where to begin a new line in a multiline string. \n",
    "\n",
    "Using the `print()` function, we can get the line breaks we want without using \\n"
   ]
  },
  {
   "cell_type": "code",
   "execution_count": 12,
   "metadata": {},
   "outputs": [
    {
     "name": "stdout",
     "output_type": "stream",
     "text": [
      "Did a full 180, crazy\n",
      "Thinking 'bout the way I was\n",
      "Did the heartbreak change me? Maybe\n",
      "But look at where I ended up\n",
      "I'm all good already\n",
      "So moved on, it's scary\n",
      "I'm not where you left me at all, so\n"
     ]
    }
   ],
   "source": [
    "print(dua_lipa)"
   ]
  },
  {
   "cell_type": "markdown",
   "metadata": {},
   "source": [
    "## Numbers"
   ]
  },
  {
   "cell_type": "markdown",
   "metadata": {},
   "source": [
    "### Integers"
   ]
  },
  {
   "cell_type": "markdown",
   "metadata": {},
   "source": [
    "### Floats"
   ]
  },
  {
   "cell_type": "markdown",
   "metadata": {},
   "source": [
    "## Booleans"
   ]
  },
  {
   "cell_type": "code",
   "execution_count": null,
   "metadata": {},
   "outputs": [],
   "source": []
  }
 ],
 "metadata": {
  "kernelspec": {
   "display_name": "Python 3",
   "language": "python",
   "name": "python3"
  },
  "language_info": {
   "codemirror_mode": {
    "name": "ipython",
    "version": 3
   },
   "file_extension": ".py",
   "mimetype": "text/x-python",
   "name": "python",
   "nbconvert_exporter": "python",
   "pygments_lexer": "ipython3",
   "version": "3.7.6"
  }
 },
 "nbformat": 4,
 "nbformat_minor": 4
}
