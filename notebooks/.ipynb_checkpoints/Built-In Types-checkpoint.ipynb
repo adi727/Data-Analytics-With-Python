{
 "cells": [
  {
   "cell_type": "markdown",
   "metadata": {},
   "source": [
    "# Introduction to Comparison Operations\n",
    "\n",
    "Comparison operators allow us to compare values on either side of the operator for numeric values. If we have values that are of mixed types, one of the values will the coerced up the nmeric tower from an integer to a float, or a float to a complex. The result of the comparison is a Boolean (True or False).\n",
    "\n",
    "[There are 8 comparison operations in Python](https://docs.python.org/3/library/stdtypes.html#comparisons) but we will focus on the 6 operators that are used frequently for analytics:\n",
    "\n",
    "| Operator | Description | Example | Result |\n",
    "| :--- | :----------- |:--- | :----------- |\n",
    "|<|less than|`10 < 20`|`True`\n",
    "|<=|less than or equal to|`10 <= 20`|`True`\n",
    "|>|greater than|`10 > 20`|`False`\n",
    "|>=|greater than or equal to|`10 >= 20`|`False`\n",
    "|==|equal|`10 == 20`|`False`\n",
    "|!=|not equal|`10 != 20`|`True`\n",
    "\n",
    "\n",
    "\n",
    "Comparison operators can be used in a simliar fashion when comparing things like variables or strings as you'll see below. "
   ]
  },
  {
   "cell_type": "markdown",
   "metadata": {},
   "source": [
    "## Numeric comparison\n"
   ]
  },
  {
   "cell_type": "code",
   "execution_count": 38,
   "metadata": {
    "scrolled": true
   },
   "outputs": [
    {
     "data": {
      "text/plain": [
       "True"
      ]
     },
     "execution_count": 38,
     "metadata": {},
     "output_type": "execute_result"
    }
   ],
   "source": [
    "134>34"
   ]
  },
  {
   "cell_type": "markdown",
   "metadata": {},
   "source": [
    "## Variable comparison"
   ]
  },
  {
   "cell_type": "code",
   "execution_count": 23,
   "metadata": {},
   "outputs": [
    {
     "name": "stdout",
     "output_type": "stream",
     "text": [
      "a is not equal to b\n",
      "----------------------------\n",
      "a is less than to c\n",
      "----------------------------\n",
      "b is not greater than to c\n"
     ]
    }
   ],
   "source": [
    "a = 10\n",
    "b = 75\n",
    "c = 100\n",
    "\n",
    "if (a == b):\n",
    "    print('a is equal to b')\n",
    "else:\n",
    "    print('a is not equal to b')\n",
    "    \n",
    "print('----------------------------')\n",
    "    \n",
    "if (a < c):\n",
    "    print('a is less than to c')\n",
    "else:\n",
    "    print('a is not less than to c')\n",
    "    \n",
    "print('----------------------------')\n",
    "\n",
    "if (b > c):\n",
    "    print('b is greater than to c')\n",
    "else:\n",
    "    print('b is not greater than to c')"
   ]
  },
  {
   "cell_type": "markdown",
   "metadata": {},
   "source": [
    "## String comparison\n",
    "\n",
    "When using >, >=, <, or <=, Python is comparing the length or number of characters between both strings\n"
   ]
  },
  {
   "cell_type": "code",
   "execution_count": 30,
   "metadata": {
    "scrolled": true
   },
   "outputs": [
    {
     "data": {
      "text/plain": [
       "False"
      ]
     },
     "execution_count": 30,
     "metadata": {},
     "output_type": "execute_result"
    }
   ],
   "source": [
    "'Adrian'>='Javier'"
   ]
  },
  {
   "cell_type": "code",
   "execution_count": 33,
   "metadata": {},
   "outputs": [
    {
     "data": {
      "text/plain": [
       "True"
      ]
     },
     "execution_count": 33,
     "metadata": {},
     "output_type": "execute_result"
    }
   ],
   "source": [
    "'Adrian'<='Javier'"
   ]
  },
  {
   "cell_type": "markdown",
   "metadata": {},
   "source": [
    "When using == or !=, Python compares the the two strings character by character"
   ]
  },
  {
   "cell_type": "code",
   "execution_count": 35,
   "metadata": {
    "scrolled": true
   },
   "outputs": [
    {
     "data": {
      "text/plain": [
       "True"
      ]
     },
     "execution_count": 35,
     "metadata": {},
     "output_type": "execute_result"
    }
   ],
   "source": [
    "'Adrian'=='Adrian'"
   ]
  },
  {
   "cell_type": "code",
   "execution_count": 36,
   "metadata": {},
   "outputs": [
    {
     "data": {
      "text/plain": [
       "False"
      ]
     },
     "execution_count": 36,
     "metadata": {},
     "output_type": "execute_result"
    }
   ],
   "source": [
    "'adrian'=='Adrian'"
   ]
  },
  {
   "cell_type": "code",
   "execution_count": 37,
   "metadata": {},
   "outputs": [
    {
     "data": {
      "text/plain": [
       "True"
      ]
     },
     "execution_count": 37,
     "metadata": {},
     "output_type": "execute_result"
    }
   ],
   "source": [
    "'adrian'!='Adrian'"
   ]
  },
  {
   "cell_type": "markdown",
   "metadata": {},
   "source": [
    "# Introduction to Arithmetic Operations\n",
    "\n",
    "You can perform arithmetic operations like addition, subtraction, multiplication, and division.\n",
    "\n",
    "The following are arithmetic operators that Python supports:\n",
    "\n",
    "| Operator | Description | Syntax | Example |Result|\n",
    "| :--- | :----------- |:--- | :----------- |:----------- |\n",
    "| + | Addition | x+y |1 + 2|3\n",
    "| - | Subtraction |x-y|2 - 1|1\n",
    "| * | Multiplication |x*y|2 * 2|4\n",
    "| / | Division (float) |x/y|100 / 9|11.11..\n",
    "| // | Division (floor) |x // y|100 // 9|11\n",
    "| % | Modulus - Returns the remainder when left operand is divided by the right operand |x % y|100 % 9|1\n",
    "| ** | Power |x**y|2 ** 5|32"
   ]
  },
  {
   "cell_type": "code",
   "execution_count": 14,
   "metadata": {},
   "outputs": [
    {
     "data": {
      "text/plain": [
       "62"
      ]
     },
     "execution_count": 14,
     "metadata": {},
     "output_type": "execute_result"
    }
   ],
   "source": [
    "# Addition\n",
    "52+10"
   ]
  },
  {
   "cell_type": "code",
   "execution_count": 40,
   "metadata": {},
   "outputs": [
    {
     "data": {
      "text/plain": [
       "42"
      ]
     },
     "execution_count": 40,
     "metadata": {},
     "output_type": "execute_result"
    }
   ],
   "source": [
    "# Subtraction\n",
    "52-10"
   ]
  },
  {
   "cell_type": "code",
   "execution_count": 42,
   "metadata": {},
   "outputs": [
    {
     "data": {
      "text/plain": [
       "520"
      ]
     },
     "execution_count": 42,
     "metadata": {},
     "output_type": "execute_result"
    }
   ],
   "source": [
    "# Multiplication\n",
    "52*10"
   ]
  },
  {
   "cell_type": "code",
   "execution_count": 43,
   "metadata": {},
   "outputs": [
    {
     "data": {
      "text/plain": [
       "5.2"
      ]
     },
     "execution_count": 43,
     "metadata": {},
     "output_type": "execute_result"
    }
   ],
   "source": [
    "# Division\n",
    "52/10"
   ]
  },
  {
   "cell_type": "code",
   "execution_count": 45,
   "metadata": {},
   "outputs": [
    {
     "data": {
      "text/plain": [
       "2"
      ]
     },
     "execution_count": 45,
     "metadata": {},
     "output_type": "execute_result"
    }
   ],
   "source": [
    "# Modulus\n",
    "# Commonly used to tell if a number is even or odd\n",
    "52%10"
   ]
  },
  {
   "cell_type": "code",
   "execution_count": 46,
   "metadata": {},
   "outputs": [
    {
     "data": {
      "text/plain": [
       "144555105949057024"
      ]
     },
     "execution_count": 46,
     "metadata": {},
     "output_type": "execute_result"
    }
   ],
   "source": [
    "# Power\n",
    "52**10"
   ]
  },
  {
   "cell_type": "markdown",
   "metadata": {},
   "source": [
    "## Solving a problem using variables\n",
    "\n",
    "Let's try to solve the following problem using variables\n",
    "> A clothing store sells t-shirts for $10 and makes 25% profit from each sale. If the store sells 500 t-shirts this weekend, how much total profit does it make?\n",
    "\n",
    "Seems like a relatively straightforward calucation"
   ]
  },
  {
   "cell_type": "code",
   "execution_count": 47,
   "metadata": {},
   "outputs": [
    {
     "data": {
      "text/plain": [
       "1250.0"
      ]
     },
     "execution_count": 47,
     "metadata": {},
     "output_type": "execute_result"
    }
   ],
   "source": [
    "500 * (.25 * 10)"
   ]
  },
  {
   "cell_type": "markdown",
   "metadata": {},
   "source": [
    "So the clothing storee will make a total profit of $1250. While this is a straightfoward way to solve this problem, looking at the code, it's not clear what each number represents. One way of solving this problem is by assigning each value into a variable."
   ]
  },
  {
   "cell_type": "code",
   "execution_count": 48,
   "metadata": {},
   "outputs": [],
   "source": [
    "cost_of_shirt = 10\n",
    "profit_margin = .25\n",
    "number_of_shirts_sold = 500"
   ]
  },
  {
   "cell_type": "markdown",
   "metadata": {},
   "source": [
    "After running the cell above, our three variables now conatin the information provided in the word problem. We check that our variables contain the correct values by running each of them"
   ]
  },
  {
   "cell_type": "code",
   "execution_count": 49,
   "metadata": {},
   "outputs": [
    {
     "data": {
      "text/plain": [
       "10"
      ]
     },
     "execution_count": 49,
     "metadata": {},
     "output_type": "execute_result"
    }
   ],
   "source": [
    "cost_of_shirt"
   ]
  },
  {
   "cell_type": "code",
   "execution_count": 50,
   "metadata": {},
   "outputs": [
    {
     "data": {
      "text/plain": [
       "0.25"
      ]
     },
     "execution_count": 50,
     "metadata": {},
     "output_type": "execute_result"
    }
   ],
   "source": [
    "profit_margin"
   ]
  },
  {
   "cell_type": "code",
   "execution_count": 51,
   "metadata": {},
   "outputs": [
    {
     "data": {
      "text/plain": [
       "500"
      ]
     },
     "execution_count": 51,
     "metadata": {},
     "output_type": "execute_result"
    }
   ],
   "source": [
    "number_of_shirts_sold"
   ]
  },
  {
   "cell_type": "markdown",
   "metadata": {},
   "source": [
    "Let's combine our variables using the arithmetic operations to create a new variable we will call `total_profit`"
   ]
  },
  {
   "cell_type": "code",
   "execution_count": 52,
   "metadata": {},
   "outputs": [],
   "source": [
    "total_profit = number_of_shirts_sold * (profit_margin * cost_of_shirt)"
   ]
  },
  {
   "cell_type": "code",
   "execution_count": 53,
   "metadata": {},
   "outputs": [
    {
     "data": {
      "text/plain": [
       "1250.0"
      ]
     },
     "execution_count": 53,
     "metadata": {},
     "output_type": "execute_result"
    }
   ],
   "source": [
    "total_profit"
   ]
  },
  {
   "cell_type": "markdown",
   "metadata": {},
   "source": [
    "Let's use the `print` function to display a clear message of what our stores total profit is"
   ]
  },
  {
   "cell_type": "code",
   "execution_count": 54,
   "metadata": {},
   "outputs": [
    {
     "name": "stdout",
     "output_type": "stream",
     "text": [
      "The clothing store made a total profit of $ 1250.0\n"
     ]
    }
   ],
   "source": [
    "print(\"The clothing store made a total profit of $\", total_profit)"
   ]
  }
 ],
 "metadata": {
  "kernelspec": {
   "display_name": "Python 3",
   "language": "python",
   "name": "python3"
  },
  "language_info": {
   "codemirror_mode": {
    "name": "ipython",
    "version": 3
   },
   "file_extension": ".py",
   "mimetype": "text/x-python",
   "name": "python",
   "nbconvert_exporter": "python",
   "pygments_lexer": "ipython3",
   "version": "3.7.6"
  }
 },
 "nbformat": 4,
 "nbformat_minor": 4
}
